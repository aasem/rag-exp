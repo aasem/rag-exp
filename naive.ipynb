{
 "cells": [
  {
   "cell_type": "code",
   "execution_count": 2,
   "metadata": {},
   "outputs": [],
   "source": [
    "from llama_index.core import VectorStoreIndex, SimpleDirectoryReader, ServiceContext\n",
    "from llama_index.llms.huggingface import HuggingFaceLLM\n",
    "from llama_index.core.prompts.prompts import SimpleInputPrompt"
   ]
  },
  {
   "cell_type": "code",
   "execution_count": 4,
   "metadata": {},
   "outputs": [],
   "source": [
    "documents = SimpleDirectoryReader(\"data\").load_data()"
   ]
  },
  {
   "cell_type": "code",
   "execution_count": 11,
   "metadata": {},
   "outputs": [
    {
     "data": {
      "text/plain": [
       "Document(id_='37359bc2-36eb-426f-b455-fdc33972d6d6', embedding=None, metadata={'page_label': '7', 'file_name': 'iqbalreconstruction.pdf', 'file_path': '/home/asim/Dev/rag-exp/data/iqbalreconstruction.pdf', 'file_type': 'application/pdf', 'file_size': 1387951, 'creation_date': '2024-03-15', 'last_modified_date': '2024-03-15'}, excluded_embed_metadata_keys=['file_name', 'file_type', 'file_size', 'creation_date', 'last_modified_date', 'last_accessed_date'], excluded_llm_metadata_keys=['file_name', 'file_type', 'file_size', 'creation_date', 'last_modified_date', 'last_accessed_date'], relationships={}, text=' \\n  \\nPREFACE \\n \\nThe Qur‘an is a book which emphasizes ‘deed‘ rather than ‘idea‘. There are, however, men to whom it is not possible organically to \\nassimilate an alien universe by re-living, as a vital process, that \\nspecial type of inner experience on which religious faith ultimately rests. Moreover, the modern man, by  developing habits of concrete \\nthought - habits which Islam itself fostered at least in the earlier stages of its cultural career - has rendered himself less capable of that \\nexperience which he further suspects because of its liability to illusion. The more genuine schools of Sufism have, no doubt, done \\ngood work in shaping and directing the evolution of religious \\nexperience in Islam; but their latter-day representatives, owing to their ignorance of the modern mind, have become absolutely incapable of receiving any fresh inspiration from modern thought and experience. They are perpetuating methods which were created for generations possessing a cultural outlook differing, in important respects, from our own. ‘Your creation and resurrection,‘ says the \\nQur‘an, ‘are like the creation and resurrection of a single soul.‘ A \\nliving experience of the kind of biological unity, embodied in this verse, requires today a method physiologically less violent and psychologically more suitable to a concrete type of mind. In the absence of such a method the demand for a scientific form of religious knowledge is only natural. In these Lectures, which were undertaken at the request of th e Madras Muslim Association and \\ndelivered at Madras, Hyderabad, an d Aligarh, I have tried to meet, \\neven though partially, this urgent demand by attempting to reconstruct Muslim religious phil osophy with due regard to the \\nphilosophical traditions of Islam and the more recent developments in the various domains of human knowledge. And the present moment is quite favourable for such an undertaking. Classical \\nPhysics has learned to criticize its own foundations. As a result of \\nthis criticism the kind of materialism, which it originally necessitated, is rapidly disappearing;  and the day is not far off when ', start_char_idx=None, end_char_idx=None, text_template='{metadata_str}\\n\\n{content}', metadata_template='{key}: {value}', metadata_seperator='\\n')"
      ]
     },
     "execution_count": 11,
     "metadata": {},
     "output_type": "execute_result"
    }
   ],
   "source": [
    "documents[6]"
   ]
  },
  {
   "cell_type": "code",
   "execution_count": 12,
   "metadata": {},
   "outputs": [
    {
     "data": {
      "text/plain": [
       "PromptTemplate(metadata={'prompt_type': <PromptType.CUSTOM: 'custom'>}, template_vars=['query_str'], kwargs={}, output_parser=None, template_var_mappings=None, function_mappings=None, template='<|USER|>{query_str}<|ASSISTANT|>')"
      ]
     },
     "execution_count": 12,
     "metadata": {},
     "output_type": "execute_result"
    }
   ],
   "source": [
    "system_prompt=\"\"\"\n",
    "You are a Q&A assistant. Your goal is to answer questions as accurately as possible based on the instructions and context provided.\n",
    "\"\"\"\n",
    "\n",
    "## Default LLama2 format\n",
    "query_wrapper_prompt=SimpleInputPrompt(\"<|USER|>{query_str}<|ASSISTANT|>\")"
   ]
  }
 ],
 "metadata": {
  "kernelspec": {
   "display_name": "doc-chat",
   "language": "python",
   "name": "python3"
  },
  "language_info": {
   "codemirror_mode": {
    "name": "ipython",
    "version": 3
   },
   "file_extension": ".py",
   "mimetype": "text/x-python",
   "name": "python",
   "nbconvert_exporter": "python",
   "pygments_lexer": "ipython3",
   "version": "3.10.13"
  }
 },
 "nbformat": 4,
 "nbformat_minor": 2
}
